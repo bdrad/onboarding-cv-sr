{
  "cells": [
    {
      "cell_type": "markdown",
      "metadata": {
        "id": "LUYPxOwpTql1"
      },
      "source": [
        "# Loading/Installing Prerequisites\n",
        "- pip install pylibjpeg pylibjpeg-libjpeg pylibjpeg-openjpeg\n",
        "- numpy\n",
        "- pandas \n",
        "- pytorch"
      ]
    },
    {
      "cell_type": "code",
      "execution_count": 7,
      "metadata": {},
      "outputs": [
        {
          "name": "stdout",
          "output_type": "stream",
          "text": [
            "Looking in links: https://download.pytorch.org/whl/torch_stable.html\n",
            "Requirement already satisfied: torch==1.9.1+cu111 in c:\\programdata\\anaconda3\\lib\\site-packages (1.9.1+cu111)\n",
            "Requirement already satisfied: torchvision==0.10.1+cu111 in c:\\programdata\\anaconda3\\lib\\site-packages (0.10.1+cu111)\n",
            "Requirement already satisfied: torchaudio===0.9.1 in c:\\programdata\\anaconda3\\lib\\site-packages (0.9.1)\n",
            "Requirement already satisfied: typing-extensions in c:\\programdata\\anaconda3\\lib\\site-packages (from torch==1.9.1+cu111) (3.7.4.3)\n",
            "Requirement already satisfied: pillow>=5.3.0 in c:\\programdata\\anaconda3\\lib\\site-packages (from torchvision==0.10.1+cu111) (8.2.0)\n",
            "Requirement already satisfied: numpy in c:\\programdata\\anaconda3\\lib\\site-packages (from torchvision==0.10.1+cu111) (1.21.2)\n"
          ]
        }
      ],
      "source": [
        "!pip3 install torch==1.9.1+cu111 torchvision==0.10.1+cu111 torchaudio===0.9.1 -f https://download.pytorch.org/whl/torch_stable.html"
      ]
    },
    {
      "cell_type": "code",
      "execution_count": 8,
      "metadata": {},
      "outputs": [
        {
          "name": "stdout",
          "output_type": "stream",
          "text": [
            "Requirement already satisfied: opencv-contrib-python in c:\\programdata\\anaconda3\\lib\\site-packages (4.5.3.56)\n",
            "Requirement already satisfied: numpy>=1.17.3 in c:\\programdata\\anaconda3\\lib\\site-packages (from opencv-contrib-python) (1.21.2)\n"
          ]
        }
      ],
      "source": [
        "!pip install opencv-contrib-python "
      ]
    },
    {
      "cell_type": "code",
      "execution_count": 9,
      "metadata": {
        "colab": {
          "base_uri": "https://localhost:8080/"
        },
        "id": "NIM27Ew_XhqO",
        "outputId": "0cccc6a2-af98-4a40-c017-6b690d145533"
      },
      "outputs": [
        {
          "name": "stdout",
          "output_type": "stream",
          "text": [
            "Requirement already satisfied: numpy in c:\\programdata\\anaconda3\\lib\\site-packages (1.21.2)\n"
          ]
        }
      ],
      "source": [
        "!pip install --user --upgrade numpy"
      ]
    },
    {
      "cell_type": "code",
      "execution_count": 10,
      "metadata": {},
      "outputs": [
        {
          "name": "stdout",
          "output_type": "stream",
          "text": [
            "Requirement already satisfied: numpy in c:\\programdata\\anaconda3\\lib\\site-packages (1.21.2)\n"
          ]
        }
      ],
      "source": [
        "!pip install numpy"
      ]
    },
    {
      "cell_type": "code",
      "execution_count": 11,
      "metadata": {},
      "outputs": [],
      "source": [
        "import torchvision\n",
        "import torch.nn as nn\n",
        "import torch\n",
        "import torch.nn.functional as F\n",
        "from torchvision import transforms,models,datasets\n",
        "import matplotlib.pyplot as plt\n",
        "from PIL import Image\n",
        "import numpy as np\n",
        "from torch import optim\n",
        "device = 'cuda' if torch.cuda.is_available() else 'cpu'\n",
        "import cv2, glob, numpy as np, pandas as pd\n",
        "import matplotlib.pyplot as plt\n",
        "from glob import glob\n",
        "import torchvision.transforms as transforms\n",
        "from torch.utils.data import DataLoader, Dataset"
      ]
    },
    {
      "cell_type": "code",
      "execution_count": 12,
      "metadata": {
        "id": "T9NCdMRvuxAI"
      },
      "outputs": [],
      "source": [
        "import numpy as np\n",
        "from numpy import load\n",
        "import pandas as pd\n",
        "import matplotlib.pyplot as plt\n",
        "%matplotlib inline"
      ]
    },
    {
      "cell_type": "markdown",
      "metadata": {
        "id": "s7pwxi-CT17x"
      },
      "source": [
        "# Helper Functions"
      ]
    },
    {
      "cell_type": "code",
      "execution_count": 13,
      "metadata": {
        "id": "xNS9TFeUTLKe"
      },
      "outputs": [],
      "source": [
        "def get_table(filename):\n",
        "    \"\"\"[get pandas table from (un)compressed npz/npy format]\n",
        "\n",
        "    Args:\n",
        "        filename (string): [location string of the file(name)]\n",
        "\n",
        "    Returns:\n",
        "        [dataframe]: [pandas dataframe containing the numpy array(s)]\n",
        "    \"\"\"\n",
        "    data = load(filename)\n",
        "    lst = data.files\n",
        "    df = pd.Dataframe()\n",
        "    for item in lst:\n",
        "        df[item] = data[item]\n",
        "    print(df)\n",
        "    return df"
      ]
    },
    {
      "cell_type": "code",
      "execution_count": 14,
      "metadata": {
        "colab": {
          "base_uri": "https://localhost:8080/"
        },
        "id": "UZayb8NSTQnE",
        "outputId": "97eaf2c1-01bc-4bc7-c33f-b0585fcc3503"
      },
      "outputs": [
        {
          "name": "stdout",
          "output_type": "stream",
          "text": [
            "./CBIS-DDSM/Calc-Test_P_00038_LEFT_CC/08-29-2017-DDSM-NA-96009/1.000000-full mammogram images-63992\n"
          ]
        }
      ],
      "source": [
        "md_df = pd.read_csv(\"metadata.csv\") # metadata.csv\n",
        "print(md_df[\"File Location\"][1])"
      ]
    },
    {
      "cell_type": "markdown",
      "metadata": {
        "id": "h0RQnxwXVJSG"
      },
      "source": [
        "# Convert DICOM/PNG File into Numpy Array\n",
        "Raddar. “Convert DICOM to Np.array - the Correct Way.” Kaggle, Kaggle, 30 Dec. 2020, https://www.kaggle.com/raddar/convert-dicom-to-np-array-the-correct-way/notebook. "
      ]
    },
    {
      "cell_type": "code",
      "execution_count": 15,
      "metadata": {
        "colab": {
          "base_uri": "https://localhost:8080/",
          "height": 902
        },
        "id": "f2D1RSuZTRg0",
        "outputId": "1332afb0-ecd1-4800-f73b-ba17c6414009"
      },
      "outputs": [],
      "source": [
        "import pydicom\n",
        "from pydicom.pixel_data_handlers.util import apply_voi_lut"
      ]
    },
    {
      "cell_type": "code",
      "execution_count": 16,
      "metadata": {
        "id": "SDIxnvk9XMIo"
      },
      "outputs": [],
      "source": [
        "def read_xray(path, size=299, voi_lut = False, fix_monochrome = True):\n",
        "    \"\"\"converts the dicom/png file into numpy array\n",
        "\n",
        "    Args:\n",
        "        path (string): path to file\n",
        "        size (int, optional): [description]. Defaults to 255.\n",
        "        voi_lut (bool, optional): [description]. Defaults to True.\n",
        "        fix_monochrome (bool, optional): [description]. Defaults to True.\n",
        "\n",
        "    Returns:\n",
        "        [numpy array]: [numpy array containing dicom info]\n",
        "    \"\"\"\n",
        "    dicom = pydicom.read_file(path)\n",
        "    \n",
        "    # VOI LUT (if available by DICOM device) is used to transform raw DICOM data to \"human-friendly\" view\n",
        "    if voi_lut:\n",
        "        data = apply_voi_lut(dicom.pixel_array, dicom)\n",
        "    else:\n",
        "        data = dicom.pixel_array\n",
        "               \n",
        "    # depending on this value, X-ray may look inverted - fix that:\n",
        "    if fix_monochrome and dicom.PhotometricInterpretation == \"MONOCHROME1\":\n",
        "        data = np.amax(data) - data\n",
        "        \n",
        "    data = data - np.min(data)\n",
        "    data = data / np.max(data)\n",
        "    data = (data * size).astype(np.uint8)\n",
        "        \n",
        "    return data"
      ]
    },
    {
      "cell_type": "markdown",
      "metadata": {},
      "source": [
        " Testing picture output"
      ]
    },
    {
      "cell_type": "code",
      "execution_count": 17,
      "metadata": {},
      "outputs": [
        {
          "data": {
            "text/plain": [
              "<matplotlib.image.AxesImage at 0x1eb4cd7db20>"
            ]
          },
          "execution_count": 17,
          "metadata": {},
          "output_type": "execute_result"
        },
        {
          "data": {
            "image/png": "[encoded data removed]",
            "text/plain": [
              "<Figure size 864x864 with 1 Axes>"
            ]
          },
          "metadata": {
            "needs_background": "light"
          },
          "output_type": "display_data"
        }
      ],
      "source": [
        "%matplotlib inline\n",
        "img = read_xray(md_df[\"File Location\"][1] + \"/1-1.dcm\")\n",
        "plt.figure(figsize=(12,12))\n",
        "plt.imshow(img,\"gray\")"
      ]
    },
    {
      "cell_type": "code",
      "execution_count": 18,
      "metadata": {},
      "outputs": [],
      "source": [
        "# load calc case test set and training test\n",
        "calc_test = pd.read_csv(\"calc_case_description_test_set.csv\")\n",
        "calc_train = pd.read_csv(\"calc_case_description_train_set.csv\")"
      ]
    },
    {
      "cell_type": "markdown",
      "metadata": {},
      "source": [
        "# Creating Testing and Training Sets"
      ]
    },
    {
      "cell_type": "code",
      "execution_count": 19,
      "metadata": {},
      "outputs": [],
      "source": [
        "column_names = [\"new id\", \"location\",\"density\"]\n",
        "test = pd.DataFrame(columns = column_names)\n",
        "train = pd.DataFrame(columns = column_names)\n",
        "for index, row in md_df.iterrows():\n",
        "    new_id = row['Study UID'] + '/' + row['Series UID']\n",
        "    # pattern matching, finding density information\n",
        "    if calc_test['image file path'].str.contains(new_id).any():\n",
        "        image_file = calc_test.loc[calc_test['image file path'].str.contains(new_id)]\n",
        "        df2 = {\n",
        "            \"new id\": new_id,\n",
        "            \"location\": row['File Location'], \n",
        "            \"density\": image_file[[\"breast density\"]].values[0][0]\n",
        "        }\n",
        "        test = test.append(df2,ignore_index=True)\n",
        "    elif calc_test['cropped image file path'].str.contains(new_id).any():\n",
        "        cropped_image_file = calc_test.loc[calc_test['cropped image file path'].str.contains(new_id)]\n",
        "        df2 = {\n",
        "            \"new id\": new_id,\n",
        "            \"location\": row['File Location'], \n",
        "            \"density\": cropped_image_file[[\"breast density\"]].values[0][0]\n",
        "        }\n",
        "        test = test.append(df2,ignore_index=True)\n",
        "    elif calc_train['image file path'].str.contains(new_id).any():\n",
        "        image_file = calc_train.loc[calc_train['image file path'].str.contains(new_id)]\n",
        "        df2 = {\n",
        "            \"new id\": new_id,\n",
        "            \"location\": row['File Location'], \n",
        "            \"density\": image_file[[\"breast density\"]].values[0][0]\n",
        "        }\n",
        "        train = train.append(df2, ignore_index=True)\n",
        "    elif calc_train['cropped image file path'].str.contains(new_id).any():\n",
        "        cropped_image_file = calc_train.loc[calc_train['cropped image file path'].str.contains(new_id)]\n",
        "        df2 = {\n",
        "            \"new id\": new_id,\n",
        "            \"location\": row['File Location'], \n",
        "            \"density\": cropped_image_file[[\"breast density\"]].values[0][0]\n",
        "        }\n",
        "        train = train.append(df2, ignore_index=True)\n",
        "\n"
      ]
    },
    {
      "cell_type": "code",
      "execution_count": 20,
      "metadata": {},
      "outputs": [
        {
          "data": {
            "text/html": [
              "<div>\n",
              "<style scoped>\n",
              "    .dataframe tbody tr th:only-of-type {\n",
              "        vertical-align: middle;\n",
              "    }\n",
              "\n",
              "    .dataframe tbody tr th {\n",
              "        vertical-align: top;\n",
              "    }\n",
              "\n",
              "    .dataframe thead th {\n",
              "        text-align: right;\n",
              "    }\n",
              "</style>\n",
              "<table border=\"1\" class=\"dataframe\">\n",
              "  <thead>\n",
              "    <tr style=\"text-align: right;\">\n",
              "      <th></th>\n",
              "      <th>new id</th>\n",
              "      <th>location</th>\n",
              "      <th>density</th>\n",
              "    </tr>\n",
              "  </thead>\n",
              "  <tbody>\n",
              "    <tr>\n",
              "      <th>0</th>\n",
              "      <td>1.3.6.1.4.1.9590.100.1.2.328778919012412769218...</td>\n",
              "      <td>./CBIS-DDSM/Calc-Training_P_00005_RIGHT_CC_1/0...</td>\n",
              "      <td>3</td>\n",
              "    </tr>\n",
              "    <tr>\n",
              "      <th>1</th>\n",
              "      <td>1.3.6.1.4.1.9590.100.1.2.408909860712120272633...</td>\n",
              "      <td>./CBIS-DDSM/Calc-Training_P_00005_RIGHT_CC/08-...</td>\n",
              "      <td>3</td>\n",
              "    </tr>\n",
              "    <tr>\n",
              "      <th>2</th>\n",
              "      <td>1.3.6.1.4.1.9590.100.1.2.427517897311902339923...</td>\n",
              "      <td>./CBIS-DDSM/Calc-Training_P_00005_RIGHT_MLO/08...</td>\n",
              "      <td>3</td>\n",
              "    </tr>\n",
              "    <tr>\n",
              "      <th>3</th>\n",
              "      <td>1.3.6.1.4.1.9590.100.1.2.675123622103196361081...</td>\n",
              "      <td>./CBIS-DDSM/Calc-Training_P_00005_RIGHT_MLO_1/...</td>\n",
              "      <td>3</td>\n",
              "    </tr>\n",
              "    <tr>\n",
              "      <th>4</th>\n",
              "      <td>1.3.6.1.4.1.9590.100.1.2.241202057913673145232...</td>\n",
              "      <td>./CBIS-DDSM/Calc-Training_P_00007_LEFT_CC_1/09...</td>\n",
              "      <td>4</td>\n",
              "    </tr>\n",
              "  </tbody>\n",
              "</table>\n",
              "</div>"
            ],
            "text/plain": [
              "                                              new id  \\\n",
              "0  1.3.6.1.4.1.9590.100.1.2.328778919012412769218...   \n",
              "1  1.3.6.1.4.1.9590.100.1.2.408909860712120272633...   \n",
              "2  1.3.6.1.4.1.9590.100.1.2.427517897311902339923...   \n",
              "3  1.3.6.1.4.1.9590.100.1.2.675123622103196361081...   \n",
              "4  1.3.6.1.4.1.9590.100.1.2.241202057913673145232...   \n",
              "\n",
              "                                            location density  \n",
              "0  ./CBIS-DDSM/Calc-Training_P_00005_RIGHT_CC_1/0...       3  \n",
              "1  ./CBIS-DDSM/Calc-Training_P_00005_RIGHT_CC/08-...       3  \n",
              "2  ./CBIS-DDSM/Calc-Training_P_00005_RIGHT_MLO/08...       3  \n",
              "3  ./CBIS-DDSM/Calc-Training_P_00005_RIGHT_MLO_1/...       3  \n",
              "4  ./CBIS-DDSM/Calc-Training_P_00007_LEFT_CC_1/09...       4  "
            ]
          },
          "execution_count": 20,
          "metadata": {},
          "output_type": "execute_result"
        }
      ],
      "source": [
        "train.head()"
      ]
    },
    {
      "cell_type": "markdown",
      "metadata": {},
      "source": [
        "## Problem 1\n",
        "Here we encountered a problem where the testing set is bigger than the training set, since they are all images, I decided to merge them all together, then split the new training/testing set"
      ]
    },
    {
      "cell_type": "code",
      "execution_count": 21,
      "metadata": {},
      "outputs": [],
      "source": [
        "total = test.append(train, ignore_index=True)\n",
        "total.head()\n",
        "total.to_csv(\"total.csv\")"
      ]
    },
    {
      "cell_type": "markdown",
      "metadata": {},
      "source": [
        "## Change Density \n",
        "to transform this into a binary problem"
      ]
    },
    {
      "cell_type": "code",
      "execution_count": 22,
      "metadata": {},
      "outputs": [
        {
          "data": {
            "text/html": [
              "<div>\n",
              "<style scoped>\n",
              "    .dataframe tbody tr th:only-of-type {\n",
              "        vertical-align: middle;\n",
              "    }\n",
              "\n",
              "    .dataframe tbody tr th {\n",
              "        vertical-align: top;\n",
              "    }\n",
              "\n",
              "    .dataframe thead th {\n",
              "        text-align: right;\n",
              "    }\n",
              "</style>\n",
              "<table border=\"1\" class=\"dataframe\">\n",
              "  <thead>\n",
              "    <tr style=\"text-align: right;\">\n",
              "      <th></th>\n",
              "      <th>new id</th>\n",
              "      <th>location</th>\n",
              "      <th>density</th>\n",
              "    </tr>\n",
              "  </thead>\n",
              "  <tbody>\n",
              "    <tr>\n",
              "      <th>0</th>\n",
              "      <td>1.3.6.1.4.1.9590.100.1.2.161465562211359959230...</td>\n",
              "      <td>./CBIS-DDSM/Calc-Test_P_00038_LEFT_CC_1/08-29-...</td>\n",
              "      <td>0</td>\n",
              "    </tr>\n",
              "    <tr>\n",
              "      <th>1</th>\n",
              "      <td>1.3.6.1.4.1.9590.100.1.2.859354343102033567126...</td>\n",
              "      <td>./CBIS-DDSM/Calc-Test_P_00038_LEFT_CC/08-29-20...</td>\n",
              "      <td>0</td>\n",
              "    </tr>\n",
              "    <tr>\n",
              "      <th>2</th>\n",
              "      <td>1.3.6.1.4.1.9590.100.1.2.384159464510350889125...</td>\n",
              "      <td>./CBIS-DDSM/Calc-Test_P_00038_LEFT_MLO/08-29-2...</td>\n",
              "      <td>0</td>\n",
              "    </tr>\n",
              "    <tr>\n",
              "      <th>3</th>\n",
              "      <td>1.3.6.1.4.1.9590.100.1.2.291121996131431385353...</td>\n",
              "      <td>./CBIS-DDSM/Calc-Test_P_00038_LEFT_MLO_1/08-29...</td>\n",
              "      <td>0</td>\n",
              "    </tr>\n",
              "    <tr>\n",
              "      <th>4</th>\n",
              "      <td>1.3.6.1.4.1.9590.100.1.2.177706148911820252341...</td>\n",
              "      <td>./CBIS-DDSM/Calc-Test_P_00038_RIGHT_CC/08-29-2...</td>\n",
              "      <td>0</td>\n",
              "    </tr>\n",
              "  </tbody>\n",
              "</table>\n",
              "</div>"
            ],
            "text/plain": [
              "                                              new id  \\\n",
              "0  1.3.6.1.4.1.9590.100.1.2.161465562211359959230...   \n",
              "1  1.3.6.1.4.1.9590.100.1.2.859354343102033567126...   \n",
              "2  1.3.6.1.4.1.9590.100.1.2.384159464510350889125...   \n",
              "3  1.3.6.1.4.1.9590.100.1.2.291121996131431385353...   \n",
              "4  1.3.6.1.4.1.9590.100.1.2.177706148911820252341...   \n",
              "\n",
              "                                            location density  \n",
              "0  ./CBIS-DDSM/Calc-Test_P_00038_LEFT_CC_1/08-29-...       0  \n",
              "1  ./CBIS-DDSM/Calc-Test_P_00038_LEFT_CC/08-29-20...       0  \n",
              "2  ./CBIS-DDSM/Calc-Test_P_00038_LEFT_MLO/08-29-2...       0  \n",
              "3  ./CBIS-DDSM/Calc-Test_P_00038_LEFT_MLO_1/08-29...       0  \n",
              "4  ./CBIS-DDSM/Calc-Test_P_00038_RIGHT_CC/08-29-2...       0  "
            ]
          },
          "execution_count": 22,
          "metadata": {},
          "output_type": "execute_result"
        }
      ],
      "source": [
        "new_total = total.copy()\n",
        "for index, row in total.iterrows():\n",
        "    if row['density'] == 1 or row['density'] == 2:\n",
        "        new_total.loc[index,'density'] =  0\n",
        "    elif row['density'] == 3 or row['density'] == 4:\n",
        "        new_total.loc[index,'density'] = 1\n",
        "\n",
        "new_total.head()"
      ]
    },
    {
      "cell_type": "markdown",
      "metadata": {},
      "source": [
        "## Spliting total datasets into test sets and training sets"
      ]
    },
    {
      "cell_type": "code",
      "execution_count": 23,
      "metadata": {},
      "outputs": [],
      "source": [
        "from sklearn.model_selection import train_test_split\n",
        "\n",
        "new_train, new_test = train_test_split(new_total, test_size=0.25, shuffle=True)"
      ]
    },
    {
      "cell_type": "code",
      "execution_count": 24,
      "metadata": {},
      "outputs": [],
      "source": [
        "new_train = new_train.reset_index()\n",
        "new_test = new_test.reset_index()\n",
        "new_train.to_csv(\"train.csv\")\n",
        "new_test.to_csv(\"test.csv\")"
      ]
    },
    {
      "cell_type": "markdown",
      "metadata": {},
      "source": [
        "# Preparing Training and Testing Images"
      ]
    },
    {
      "cell_type": "code",
      "execution_count": 25,
      "metadata": {},
      "outputs": [
        {
          "ename": "KeyboardInterrupt",
          "evalue": "",
          "output_type": "error",
          "traceback": [
            "\u001b[1;31m---------------------------------------------------------------------------\u001b[0m",
            "\u001b[1;31mKeyboardInterrupt\u001b[0m                         Traceback (most recent call last)",
            "\u001b[1;32m<ipython-input-25-69ee4d223e16>\u001b[0m in \u001b[0;36m<module>\u001b[1;34m\u001b[0m\n\u001b[0;32m      3\u001b[0m     \u001b[1;32mif\u001b[0m \u001b[0mrow\u001b[0m\u001b[1;33m[\u001b[0m\u001b[1;34m'density'\u001b[0m\u001b[1;33m]\u001b[0m \u001b[1;33m==\u001b[0m \u001b[1;36m0\u001b[0m\u001b[1;33m:\u001b[0m\u001b[1;33m\u001b[0m\u001b[1;33m\u001b[0m\u001b[0m\n\u001b[0;32m      4\u001b[0m         \u001b[1;32mfor\u001b[0m \u001b[0mfile\u001b[0m \u001b[1;32min\u001b[0m \u001b[0mglob\u001b[0m\u001b[1;33m(\u001b[0m\u001b[0mrow\u001b[0m\u001b[1;33m[\u001b[0m\u001b[1;34m'location'\u001b[0m\u001b[1;33m]\u001b[0m \u001b[1;33m+\u001b[0m \u001b[1;34m\"/\"\u001b[0m \u001b[1;33m+\u001b[0m \u001b[1;34m\"*.dcm\"\u001b[0m\u001b[1;33m)\u001b[0m\u001b[1;33m:\u001b[0m\u001b[1;33m\u001b[0m\u001b[1;33m\u001b[0m\u001b[0m\n\u001b[1;32m----> 5\u001b[1;33m             \u001b[0marray\u001b[0m \u001b[1;33m=\u001b[0m \u001b[0mread_xray\u001b[0m\u001b[1;33m(\u001b[0m\u001b[0mfile\u001b[0m\u001b[1;33m)\u001b[0m\u001b[1;33m\u001b[0m\u001b[1;33m\u001b[0m\u001b[0m\n\u001b[0m\u001b[0;32m      6\u001b[0m             \u001b[0mim\u001b[0m \u001b[1;33m=\u001b[0m \u001b[0mImage\u001b[0m\u001b[1;33m.\u001b[0m\u001b[0mfromarray\u001b[0m\u001b[1;33m(\u001b[0m\u001b[0marray\u001b[0m\u001b[1;33m)\u001b[0m\u001b[1;33m\u001b[0m\u001b[1;33m\u001b[0m\u001b[0m\n\u001b[0;32m      7\u001b[0m             \u001b[0mim\u001b[0m\u001b[1;33m.\u001b[0m\u001b[0msave\u001b[0m\u001b[1;33m(\u001b[0m\u001b[1;34m\"./train_set/not/\"\u001b[0m \u001b[1;33m+\u001b[0m \u001b[0mstr\u001b[0m\u001b[1;33m(\u001b[0m\u001b[0mi\u001b[0m\u001b[1;33m)\u001b[0m\u001b[1;33m+\u001b[0m\u001b[1;34m\".jpg\"\u001b[0m\u001b[1;33m)\u001b[0m\u001b[1;33m\u001b[0m\u001b[1;33m\u001b[0m\u001b[0m\n",
            "\u001b[1;32m<ipython-input-16-62bf5db0ea02>\u001b[0m in \u001b[0;36mread_xray\u001b[1;34m(path, size, voi_lut, fix_monochrome)\u001b[0m\n\u001b[0;32m     11\u001b[0m         \u001b[1;33m[\u001b[0m\u001b[0mnumpy\u001b[0m \u001b[0marray\u001b[0m\u001b[1;33m]\u001b[0m\u001b[1;33m:\u001b[0m \u001b[1;33m[\u001b[0m\u001b[0mnumpy\u001b[0m \u001b[0marray\u001b[0m \u001b[0mcontaining\u001b[0m \u001b[0mdicom\u001b[0m \u001b[0minfo\u001b[0m\u001b[1;33m]\u001b[0m\u001b[1;33m\u001b[0m\u001b[1;33m\u001b[0m\u001b[0m\n\u001b[0;32m     12\u001b[0m     \"\"\"\n\u001b[1;32m---> 13\u001b[1;33m     \u001b[0mdicom\u001b[0m \u001b[1;33m=\u001b[0m \u001b[0mpydicom\u001b[0m\u001b[1;33m.\u001b[0m\u001b[0mread_file\u001b[0m\u001b[1;33m(\u001b[0m\u001b[0mpath\u001b[0m\u001b[1;33m)\u001b[0m\u001b[1;33m\u001b[0m\u001b[1;33m\u001b[0m\u001b[0m\n\u001b[0m\u001b[0;32m     14\u001b[0m \u001b[1;33m\u001b[0m\u001b[0m\n\u001b[0;32m     15\u001b[0m     \u001b[1;31m# VOI LUT (if available by DICOM device) is used to transform raw DICOM data to \"human-friendly\" view\u001b[0m\u001b[1;33m\u001b[0m\u001b[1;33m\u001b[0m\u001b[1;33m\u001b[0m\u001b[0m\n",
            "\u001b[1;32mC:\\ProgramData\\Anaconda3\\lib\\site-packages\\pydicom\\filereader.py\u001b[0m in \u001b[0;36mdcmread\u001b[1;34m(fp, defer_size, stop_before_pixels, force, specific_tags)\u001b[0m\n\u001b[0;32m    999\u001b[0m         \u001b[0mcaller_owns_file\u001b[0m \u001b[1;33m=\u001b[0m \u001b[1;32mFalse\u001b[0m\u001b[1;33m\u001b[0m\u001b[1;33m\u001b[0m\u001b[0m\n\u001b[0;32m   1000\u001b[0m         \u001b[0mlogger\u001b[0m\u001b[1;33m.\u001b[0m\u001b[0mdebug\u001b[0m\u001b[1;33m(\u001b[0m\u001b[1;34m\"Reading file '{0}'\"\u001b[0m\u001b[1;33m.\u001b[0m\u001b[0mformat\u001b[0m\u001b[1;33m(\u001b[0m\u001b[0mfp\u001b[0m\u001b[1;33m)\u001b[0m\u001b[1;33m)\u001b[0m\u001b[1;33m\u001b[0m\u001b[1;33m\u001b[0m\u001b[0m\n\u001b[1;32m-> 1001\u001b[1;33m         \u001b[0mfp\u001b[0m \u001b[1;33m=\u001b[0m \u001b[0mopen\u001b[0m\u001b[1;33m(\u001b[0m\u001b[0mfp\u001b[0m\u001b[1;33m,\u001b[0m \u001b[1;34m'rb'\u001b[0m\u001b[1;33m)\u001b[0m\u001b[1;33m\u001b[0m\u001b[1;33m\u001b[0m\u001b[0m\n\u001b[0m\u001b[0;32m   1002\u001b[0m     \u001b[1;32melif\u001b[0m \u001b[0mfp\u001b[0m \u001b[1;32mis\u001b[0m \u001b[1;32mNone\u001b[0m \u001b[1;32mor\u001b[0m \u001b[1;32mnot\u001b[0m \u001b[0mhasattr\u001b[0m\u001b[1;33m(\u001b[0m\u001b[0mfp\u001b[0m\u001b[1;33m,\u001b[0m \u001b[1;34m\"read\"\u001b[0m\u001b[1;33m)\u001b[0m \u001b[1;32mor\u001b[0m \u001b[1;32mnot\u001b[0m \u001b[0mhasattr\u001b[0m\u001b[1;33m(\u001b[0m\u001b[0mfp\u001b[0m\u001b[1;33m,\u001b[0m \u001b[1;34m\"seek\"\u001b[0m\u001b[1;33m)\u001b[0m\u001b[1;33m:\u001b[0m\u001b[1;33m\u001b[0m\u001b[1;33m\u001b[0m\u001b[0m\n\u001b[0;32m   1003\u001b[0m         raise TypeError(\"dcmread: Expected a file path or a file-like, \"\n",
            "\u001b[1;31mKeyboardInterrupt\u001b[0m: "
          ]
        }
      ],
      "source": [
        "i = 0\n",
        "for index, row in new_train.iterrows():\n",
        "    if row['density'] == 0:\n",
        "        for file in glob(row['location'] + \"/\" + \"*.dcm\"):\n",
        "            array = read_xray(file)\n",
        "            im = Image.fromarray(array)\n",
        "            im.save(\"./train_set/not/\" + str(i)+\".jpg\")\n",
        "    elif row['density'] == 1:\n",
        "        for file in glob(row['location'] + \"/\" + \"*.dcm\"):\n",
        "            array = read_xray(file)\n",
        "            im = Image.fromarray(array)\n",
        "            im.save(\"./train_set/dense/\" + str(i)+\".jpg\")\n",
        "    i += 1\n",
        "\n",
        "i = 0\n",
        "for index, row in new_test.iterrows():\n",
        "    if row['density'] == 0:\n",
        "        for file in glob(row['location'] + \"/\" + \"*.dcm\"):\n",
        "            array = read_xray(file)\n",
        "            im = Image.fromarray(array)\n",
        "            im.save(\"./test_set/not/\" + str(i)+\".jpg\")\n",
        "    elif row['density'] == 1:\n",
        "        for file in glob(row['location'] + \"/\" + \"*.dcm\"):\n",
        "            array = read_xray(file)\n",
        "            im = Image.fromarray(array)\n",
        "            im.save(\"./test_set/dense/\" + str(i)+\".jpg\")\n",
        "    i += 1"
      ]
    },
    {
      "cell_type": "markdown",
      "metadata": {},
      "source": [
        "# Creating a ResNet Architecture"
      ]
    },
    {
      "cell_type": "code",
      "execution_count": 43,
      "metadata": {},
      "outputs": [],
      "source": [
        "train_data_dir = \"./train_set/\"\n",
        "test_data_dir = \"./test_set/\"\n",
        "\n",
        "class DenseOrNot(Dataset):\n",
        "    def __init__(self, folder):\n",
        "        dense = glob(folder+'/dense/*.jpg')\n",
        "        notDense = glob(folder+'/not/*.jpg')\n",
        "        self.fpaths = notDense + dense\n",
        "        from random import shuffle, seed; seed(10); shuffle(self.fpaths)\n",
        "        self.targets = [fpath.split('/')[-1].startswith('dense') for fpath in self.fpaths] # dog=1 & cat=0\n",
        "    def __len__(self): \n",
        "        return len(self.fpaths)\n",
        "    def __getitem__(self, ix):\n",
        "        f = self.fpaths[ix]\n",
        "        target = self.targets[ix]\n",
        "        target = self.targets[ix]\n",
        "        im = (cv2.imread(f)[:,:,::-1])\n",
        "        im = cv2.resize(im, (224,224))\n",
        "        return torch.tensor(im/255).permute(2,0,1).to(device).float(), torch.tensor([target]).float().to(device)"
      ]
    },
    {
      "cell_type": "code",
      "execution_count": 53,
      "metadata": {},
      "outputs": [],
      "source": [
        "data = DenseOrNot(train_data_dir)\n",
        "im, label = data[100]"
      ]
    },
    {
      "cell_type": "code",
      "execution_count": 46,
      "metadata": {},
      "outputs": [
        {
          "name": "stdout",
          "output_type": "stream",
          "text": [
            "tensor([0.], device='cuda:0')\n"
          ]
        },
        {
          "data": {
            "image/png": "[encoded data removed]",
            "text/plain": [
              "<Figure size 432x288 with 1 Axes>"
            ]
          },
          "metadata": {
            "needs_background": "light"
          },
          "output_type": "display_data"
        }
      ],
      "source": [
        "plt.imshow(im.permute(1,2,0).cpu())\n",
        "print(label)"
      ]
    },
    {
      "cell_type": "code",
      "execution_count": 47,
      "metadata": {},
      "outputs": [],
      "source": [
        "def conv_layer(ni,no,kernel_size,stride=1):\n",
        "    return nn.Sequential(\n",
        "    nn.Conv2d(ni, no, kernel_size, stride),\n",
        "    nn.ReLU(),\n",
        "    nn.BatchNorm2d(no),\n",
        "    nn.MaxPool2d(2)\n",
        "    )\n",
        "def get_model():\n",
        "    model = nn.Sequential(\n",
        "    conv_layer(3, 64, 3),\n",
        "    conv_layer(64, 512, 3),\n",
        "    conv_layer(512, 512, 3),\n",
        "    conv_layer(512, 512, 3),\n",
        "    conv_layer(512, 512, 3),\n",
        "    conv_layer(512, 512, 3),\n",
        "    nn.Flatten(),\n",
        "    nn.Linear(512, 1),\n",
        "    nn.Sigmoid(),\n",
        "    ).to(device)\n",
        "    loss_fn = nn.BCELoss()\n",
        "    optimizer = torch.optim.Adam(model.parameters(), lr= 1e-3)\n",
        "    return model, loss_fn, optimizer"
      ]
    },
    {
      "cell_type": "code",
      "execution_count": 48,
      "metadata": {},
      "outputs": [
        {
          "name": "stdout",
          "output_type": "stream",
          "text": [
            "=================================================================\n",
            "Layer (type:depth-idx)                   Param #\n",
            "=================================================================\n",
            "├─Sequential: 1-1                        --\n",
            "|    └─Conv2d: 2-1                       1,792\n",
            "|    └─ReLU: 2-2                         --\n",
            "|    └─BatchNorm2d: 2-3                  128\n",
            "|    └─MaxPool2d: 2-4                    --\n",
            "├─Sequential: 1-2                        --\n",
            "|    └─Conv2d: 2-5                       295,424\n",
            "|    └─ReLU: 2-6                         --\n",
            "|    └─BatchNorm2d: 2-7                  1,024\n",
            "|    └─MaxPool2d: 2-8                    --\n",
            "├─Sequential: 1-3                        --\n",
            "|    └─Conv2d: 2-9                       2,359,808\n",
            "|    └─ReLU: 2-10                        --\n",
            "|    └─BatchNorm2d: 2-11                 1,024\n",
            "|    └─MaxPool2d: 2-12                   --\n",
            "├─Sequential: 1-4                        --\n",
            "|    └─Conv2d: 2-13                      2,359,808\n",
            "|    └─ReLU: 2-14                        --\n",
            "|    └─BatchNorm2d: 2-15                 1,024\n",
            "|    └─MaxPool2d: 2-16                   --\n",
            "├─Sequential: 1-5                        --\n",
            "|    └─Conv2d: 2-17                      2,359,808\n",
            "|    └─ReLU: 2-18                        --\n",
            "|    └─BatchNorm2d: 2-19                 1,024\n",
            "|    └─MaxPool2d: 2-20                   --\n",
            "├─Sequential: 1-6                        --\n",
            "|    └─Conv2d: 2-21                      2,359,808\n",
            "|    └─ReLU: 2-22                        --\n",
            "|    └─BatchNorm2d: 2-23                 1,024\n",
            "|    └─MaxPool2d: 2-24                   --\n",
            "├─Flatten: 1-7                           --\n",
            "├─Linear: 1-8                            513\n",
            "├─Sigmoid: 1-9                           --\n",
            "=================================================================\n",
            "Total params: 9,742,209\n",
            "Trainable params: 9,742,209\n",
            "Non-trainable params: 0\n",
            "=================================================================\n"
          ]
        },
        {
          "data": {
            "text/plain": [
              "=================================================================\n",
              "Layer (type:depth-idx)                   Param #\n",
              "=================================================================\n",
              "├─Sequential: 1-1                        --\n",
              "|    └─Conv2d: 2-1                       1,792\n",
              "|    └─ReLU: 2-2                         --\n",
              "|    └─BatchNorm2d: 2-3                  128\n",
              "|    └─MaxPool2d: 2-4                    --\n",
              "├─Sequential: 1-2                        --\n",
              "|    └─Conv2d: 2-5                       295,424\n",
              "|    └─ReLU: 2-6                         --\n",
              "|    └─BatchNorm2d: 2-7                  1,024\n",
              "|    └─MaxPool2d: 2-8                    --\n",
              "├─Sequential: 1-3                        --\n",
              "|    └─Conv2d: 2-9                       2,359,808\n",
              "|    └─ReLU: 2-10                        --\n",
              "|    └─BatchNorm2d: 2-11                 1,024\n",
              "|    └─MaxPool2d: 2-12                   --\n",
              "├─Sequential: 1-4                        --\n",
              "|    └─Conv2d: 2-13                      2,359,808\n",
              "|    └─ReLU: 2-14                        --\n",
              "|    └─BatchNorm2d: 2-15                 1,024\n",
              "|    └─MaxPool2d: 2-16                   --\n",
              "├─Sequential: 1-5                        --\n",
              "|    └─Conv2d: 2-17                      2,359,808\n",
              "|    └─ReLU: 2-18                        --\n",
              "|    └─BatchNorm2d: 2-19                 1,024\n",
              "|    └─MaxPool2d: 2-20                   --\n",
              "├─Sequential: 1-6                        --\n",
              "|    └─Conv2d: 2-21                      2,359,808\n",
              "|    └─ReLU: 2-22                        --\n",
              "|    └─BatchNorm2d: 2-23                 1,024\n",
              "|    └─MaxPool2d: 2-24                   --\n",
              "├─Flatten: 1-7                           --\n",
              "├─Linear: 1-8                            513\n",
              "├─Sigmoid: 1-9                           --\n",
              "=================================================================\n",
              "Total params: 9,742,209\n",
              "Trainable params: 9,742,209\n",
              "Non-trainable params: 0\n",
              "================================================================="
            ]
          },
          "execution_count": 48,
          "metadata": {},
          "output_type": "execute_result"
        }
      ],
      "source": [
        "from torchsummary import summary\n",
        "model, loss_fn, optimizer = get_model()\n",
        "summary(model, input_size=(3, 224, 224))"
      ]
    },
    {
      "cell_type": "code",
      "execution_count": 51,
      "metadata": {},
      "outputs": [],
      "source": [
        "def train_batch(x, y, model, opt, loss_fn):\n",
        "    prediction = model(x)\n",
        "    batch_loss = loss_fn(prediction, y)\n",
        "    batch_loss.backward()\n",
        "    optimizer.step()\n",
        "    optimizer.zero_grad()\n",
        "    return batch_loss.item()"
      ]
    },
    {
      "cell_type": "code",
      "execution_count": 50,
      "metadata": {},
      "outputs": [],
      "source": [
        "\n",
        "@torch.no_grad()\n",
        "def accuracy(x, y, model):\n",
        "    prediction = model(x)\n",
        "    is_correct = (prediction > 0.5) == y\n",
        "    return is_correct.cpu().numpy().tolist()"
      ]
    },
    {
      "cell_type": "code",
      "execution_count": 49,
      "metadata": {},
      "outputs": [],
      "source": [
        "def get_data():     \n",
        "    train = DenseOrNot(train_data_dir)\n",
        "    trn_dl = DataLoader(train, batch_size=32, shuffle=True, drop_last = True)\n",
        "    val = DenseOrNot(test_data_dir)\n",
        "    val_dl = DataLoader(val, batch_size=32, shuffle=True, drop_last = True)\n",
        "    return trn_dl, val_dl"
      ]
    },
    {
      "cell_type": "code",
      "execution_count": 52,
      "metadata": {},
      "outputs": [],
      "source": [
        "trn_dl, val_dl = get_data()\n",
        "model, loss_fn, optimizer = get_model()"
      ]
    },
    {
      "cell_type": "code",
      "execution_count": 54,
      "metadata": {},
      "outputs": [
        {
          "name": "stdout",
          "output_type": "stream",
          "text": [
            "0\n",
            "[0.8381622148596722]\n",
            "[0.6508152173913043]\n",
            "[0.59375]\n",
            "1\n",
            "[0.8381622148596722, 0.6182631046875663]\n",
            "[0.6508152173913043, 0.6956521739130435]\n",
            "[0.59375, 0.6026785714285714]\n",
            "2\n",
            "[0.8381622148596722, 0.6182631046875663, 0.5767366095729496]\n",
            "[0.6508152173913043, 0.6956521739130435, 0.6970108695652174]\n",
            "[0.59375, 0.6026785714285714, 0.6339285714285714]\n",
            "3\n",
            "[0.8381622148596722, 0.6182631046875663, 0.5767366095729496, 0.5676995347375455]\n",
            "[0.6508152173913043, 0.6956521739130435, 0.6970108695652174, 0.7214673913043478]\n",
            "[0.59375, 0.6026785714285714, 0.6339285714285714, 0.6651785714285714]\n",
            "4\n",
            "[0.8381622148596722, 0.6182631046875663, 0.5767366095729496, 0.5676995347375455, 0.5492039296938025]\n",
            "[0.6508152173913043, 0.6956521739130435, 0.6970108695652174, 0.7214673913043478, 0.7282608695652174]\n",
            "[0.59375, 0.6026785714285714, 0.6339285714285714, 0.6651785714285714, 0.6473214285714286]\n"
          ]
        }
      ],
      "source": [
        "train_losses, train_accuracies = [], []\n",
        "val_losses, val_accuracies = [], []\n",
        "for epoch in range(5):\n",
        "    \n",
        "    print(epoch)\n",
        "    train_epoch_losses, train_epoch_accuracies = [], []\n",
        "    val_epoch_accuracies = []\n",
        "    for ix, batch in enumerate(iter(trn_dl)):\n",
        "        #print(ix)\n",
        "        x, y = batch\n",
        "        batch_loss = train_batch(x, y, model, optimizer, loss_fn)\n",
        "        train_epoch_losses.append(batch_loss)        \n",
        "    train_epoch_loss = np.array(train_epoch_losses).mean()\n",
        "\n",
        "    for ix, batch in enumerate(iter(trn_dl)):\n",
        "        x, y = batch\n",
        "        is_correct = accuracy(x, y, model)\n",
        "        train_epoch_accuracies.extend(is_correct)\n",
        "    train_epoch_accuracy = np.mean(train_epoch_accuracies)\n",
        "\n",
        "    for ix, batch in enumerate(iter(val_dl)):\n",
        "        x, y = batch\n",
        "        val_is_correct = accuracy(x, y, model)\n",
        "        val_epoch_accuracies.extend(val_is_correct)\n",
        "        #validation_loss = val_loss(x, y, model)\n",
        "    val_epoch_accuracy = np.mean(val_epoch_accuracies)\n",
        "\n",
        "    train_losses.append(train_epoch_loss)\n",
        "    train_accuracies.append(train_epoch_accuracy)\n",
        "    #val_losses.append(validation_loss)\n",
        "    val_accuracies.append(val_epoch_accuracy)\n",
        "    print(train_losses)\n",
        "    print(train_accuracies)\n",
        "    print(val_accuracies)"
      ]
    },
    {
      "cell_type": "code",
      "execution_count": 69,
      "metadata": {},
      "outputs": [
        {
          "data": {
            "image/png": "[encoded data removed]",
            "text/plain": [
              "<Figure size 432x288 with 1 Axes>"
            ]
          },
          "metadata": {
            "needs_background": "light"
          },
          "output_type": "display_data"
        }
      ],
      "source": [
        "epochs = np.arange(5)+1\n",
        "import matplotlib.ticker as mtick\n",
        "import matplotlib.pyplot as plt\n",
        "import matplotlib.ticker as mticker\n",
        "%matplotlib inline\n",
        "plt.plot(epochs, train_accuracies, 'bo',label='Training accuracy')\n",
        "plt.plot(epochs, val_accuracies, 'r', label='Validation accuracy')\n",
        "ticks_loc = plt.gca().get_xticks().tolist()\n",
        "plt.gca().xaxis.set_major_locator(mticker.FixedLocator(ticks_loc))\n",
        "plt.title('Training and validation accuracy with ResNet18 \\nand 1K training data points')\n",
        "plt.xlabel('Epochs')\n",
        "plt.ylabel('Accuracy')\n",
        "plt.ylim(0.5,1)\n",
        "ticks_loc = plt.gca().get_yticks().tolist()\n",
        "plt.gca().yaxis.set_major_locator(mticker.FixedLocator(ticks_loc))\n",
        "plt.gca().set_yticklabels(['{:.0f}%'.format(x*100) for x in plt.gca().get_yticks().tolist()]) \n",
        "plt.legend()\n",
        "plt.grid('off')\n",
        "plt.show()\n"
      ]
    },
    {
      "cell_type": "code",
      "execution_count": null,
      "metadata": {},
      "outputs": [],
      "source": []
    }
  ],
  "metadata": {
    "accelerator": "GPU",
    "colab": {
      "collapsed_sections": [],
      "name": "cv.ipynb",
      "provenance": [],
      "toc_visible": true
    },
    "interpreter": {
      "hash": "b3ba2566441a7c06988d0923437866b63cedc61552a5af99d1f4fb67d367b25f"
    },
    "kernelspec": {
      "display_name": "Python 3.8.8 64-bit ('base': conda)",
      "name": "python3"
    },
    "language_info": {
      "codemirror_mode": {
        "name": "ipython",
        "version": 3
      },
      "file_extension": ".py",
      "mimetype": "text/x-python",
      "name": "python",
      "nbconvert_exporter": "python",
      "pygments_lexer": "ipython3",
      "version": "3.8.8"
    }
  },
  "nbformat": 4,
  "nbformat_minor": 0
}
